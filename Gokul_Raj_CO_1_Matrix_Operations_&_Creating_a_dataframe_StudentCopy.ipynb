{
  "nbformat": 4,
  "nbformat_minor": 0,
  "metadata": {
    "colab": {
      "name": "Gokul Raj CO-1 Matrix Operations & Creating a dataframe-StudentCopy",
      "provenance": [],
      "collapsed_sections": [],
      "include_colab_link": true
    },
    "kernelspec": {
      "name": "python3",
      "display_name": "Python 3"
    }
  },
  "cells": [
    {
      "cell_type": "markdown",
      "metadata": {
        "id": "view-in-github",
        "colab_type": "text"
      },
      "source": [
        "<a href=\"https://colab.research.google.com/github/Gokulraj1234/DATASCIENCE-LAB/blob/main/Gokul_Raj_CO_1_Matrix_Operations_%26_Creating_a_dataframe_StudentCopy.ipynb\" target=\"_parent\"><img src=\"https://colab.research.google.com/assets/colab-badge.svg\" alt=\"Open In Colab\"/></a>"
      ]
    },
    {
      "cell_type": "markdown",
      "metadata": {
        "id": "2FbiXuSJANTj"
      },
      "source": [
        "#  Matrix Operations"
      ]
    },
    {
      "cell_type": "markdown",
      "metadata": {
        "id": "a7HGCnyGS_tA"
      },
      "source": [
        "#### Matrices"
      ]
    },
    {
      "cell_type": "code",
      "metadata": {
        "id": "epy_5UAiM5va",
        "colab": {
          "base_uri": "https://localhost:8080/"
        },
        "outputId": "74723c70-dd7d-48a6-9617-61719aa4096f"
      },
      "source": [
        "# Create a matrix using the 'matrix()' function of the 'numpy' module.\n",
        "import numpy as np\n",
        "x=np.matrix('1 2 3;4 5 6;7 8 9')\n",
        "print(x)"
      ],
      "execution_count": null,
      "outputs": [
        {
          "output_type": "stream",
          "name": "stdout",
          "text": [
            "[[1 2 3]\n",
            " [4 5 6]\n",
            " [7 8 9]]\n"
          ]
        }
      ]
    },
    {
      "cell_type": "code",
      "metadata": {
        "id": "vNZ6B267NSBn",
        "colab": {
          "base_uri": "https://localhost:8080/"
        },
        "outputId": "7fc88dff-2ebf-4f8b-b217-d64d2e29e18f"
      },
      "source": [
        "# Convert a nested Python list into a matrix using the 'matrix()' function of the 'numpy' module.\n",
        "y=np.matrix([[1,2,3],[4,5,6],[7,8,9]])\n",
        "print(y)"
      ],
      "execution_count": null,
      "outputs": [
        {
          "output_type": "stream",
          "name": "stdout",
          "text": [
            "[[1 2 3]\n",
            " [4 5 6]\n",
            " [7 8 9]]\n"
          ]
        }
      ]
    },
    {
      "cell_type": "markdown",
      "metadata": {
        "id": "aMYY5QGVS7AR"
      },
      "source": [
        "#### Matrix Multiplication\n"
      ]
    },
    {
      "cell_type": "markdown",
      "metadata": {
        "id": "F02GWaeOOv8B"
      },
      "source": [
        "\n",
        "$$\\begin{bmatrix} 8 & 7 \\\\ 3\t& -5\t\\\\\\end{bmatrix} \\begin{bmatrix} 3 \\\\ 2 \\\\\\end{bmatrix}$$\n",
        "\n",
        "To multiply two matrices, you have to use the `matmul()` function of the `numpy` module. It takes two matrices to be multiplied as inputs and returns a new matrix."
      ]
    },
    {
      "cell_type": "code",
      "metadata": {
        "id": "LXouPp0rNmfl",
        "colab": {
          "base_uri": "https://localhost:8080/"
        },
        "outputId": "e07a9878-6e1a-4c0c-a8ad-1fb2e402e22b"
      },
      "source": [
        "# Multiplication of the above two matrices.\n",
        "x=np.matrix('8 7;3 -5')\n",
        "b=np.matrix('3;2')\n",
        "e=np.matmul(x,b)\n",
        "print(e)"
      ],
      "execution_count": null,
      "outputs": [
        {
          "output_type": "stream",
          "name": "stdout",
          "text": [
            "[[38]\n",
            " [-1]]\n"
          ]
        }
      ]
    },
    {
      "cell_type": "markdown",
      "metadata": {
        "id": "25p437ShPXO1"
      },
      "source": [
        "**Note:** The number of columns in the first matrix should be the same as the number of rows in the second matrix. Otherwise, you will get `ValueError`"
      ]
    },
    {
      "cell_type": "markdown",
      "metadata": {
        "id": "plpe2GRqTGlK"
      },
      "source": [
        "####  Identity Matrix"
      ]
    },
    {
      "cell_type": "code",
      "metadata": {
        "id": "6eewfaY_XHFk",
        "colab": {
          "base_uri": "https://localhost:8080/"
        },
        "outputId": "311e4027-8362-4134-aa8f-10eea61424d4"
      },
      "source": [
        "# Create an identity matrix of the dimension 5 and of 'int' type.\n",
        "id_mat=np.identity(5,dtype=int)\n",
        "print(id_mat)"
      ],
      "execution_count": null,
      "outputs": [
        {
          "output_type": "stream",
          "name": "stdout",
          "text": [
            "[[1 0 0 0 0]\n",
            " [0 1 0 0 0]\n",
            " [0 0 1 0 0]\n",
            " [0 0 0 1 0]\n",
            " [0 0 0 0 1]]\n"
          ]
        }
      ]
    },
    {
      "cell_type": "markdown",
      "metadata": {
        "id": "WZQuoEgxX4yz"
      },
      "source": [
        "Now let's multiply a square matrix with an identity matrix of the same dimension (say 3)."
      ]
    },
    {
      "cell_type": "code",
      "metadata": {
        "id": "D44dik-GWOzp",
        "colab": {
          "base_uri": "https://localhost:8080/"
        },
        "outputId": "b2dd335c-39ce-42f9-bf0b-e7fb0bda4fcc"
      },
      "source": [
        "# Multiply a square matrix with an identity matrix of the same dimension.\n",
        "x=np.matrix('1 2 3;4 5 6;7 8 9')\n",
        "y=np.identity(3,dtype=int)\n",
        "e=np.matmul(x,y)\n",
        "print(e)"
      ],
      "execution_count": null,
      "outputs": [
        {
          "output_type": "stream",
          "name": "stdout",
          "text": [
            "[[1 2 3]\n",
            " [4 5 6]\n",
            " [7 8 9]]\n"
          ]
        }
      ]
    },
    {
      "cell_type": "markdown",
      "metadata": {
        "id": "vkRY_gZbM1gX"
      },
      "source": [
        "----"
      ]
    },
    {
      "cell_type": "markdown",
      "metadata": {
        "id": "DoLDbDJ-YUj0"
      },
      "source": [
        "####  Multiplicative Inverse of a Matrix^\n",
        "\n",
        "\n",
        "Eg. let $A$ be a matrix of dimension $3$\n",
        "\n",
        "$$A = \\begin{bmatrix} 1 & 3 & 3 \\\\ 1 & 4 & 3 \\\\ 1 & 3 & 4 \\\\\\end{bmatrix}$$\n",
        "\n",
        "Then its inverse is\n",
        "\n",
        "$$A^{-1} = \\begin{bmatrix} 7 & - 3 & -3 \\\\ -1 & 1 & 0 \\\\ -1 & 0 & 1 \\\\\\end{bmatrix}$$\n",
        "\n",
        "Both $A$ and $A^{-1}$ have the same dimension.\n",
        "\n",
        "If you multiply the matrix $A$ with its inverse, you should get the identity matrix of dimension $3$.\n",
        "\n",
        "$$A^{-1} A = \\begin{bmatrix} 7 & - 3 & -3 \\\\ -1 & 1 & 0 \\\\ -1 & 0 & 1 \\\\\\end{bmatrix} \\begin{bmatrix} 1 & 3 & 3 \\\\ 1 & 4 & 3 \\\\ 1 & 3 & 4 \\\\\\end{bmatrix}$$\n",
        "\n",
        "$$\\Rightarrow A^{-1}A = \\begin{bmatrix} 7 \\times 1 - 3 \\times 1 -3 \\times 1 &7 \\times 3 - 3 \\times 4 -3 \\times 3 & 7 \\times 3 - 3 \\times 3 - 3 \\times 4 \\\\ -1 \\times 1 + 1 \\times 1 + 0 \\times 1 & -1 \\times 3 + 1 \\times 4 + 0 \\times 3 & -1 \\times 3 + 1 \\times 3 + 0 \\times 4 \\\\ -1 \\times 1 + 0 \\times 1 + 1 \\times 1 & -1 \\times 3 + 0 \\times 4 + 1 \\times 3 & -1 \\times 3 + 0 \\times 3 + 1 \\times 4 \\\\\\end{bmatrix}$$\n",
        "\n",
        "$$\\Rightarrow A^{-1}A = \\begin{bmatrix} 1 & 0 & 0 \\\\ 0 & 1 & 0 \\\\ 0 & 0 & 1 \\\\\\end{bmatrix}$$\n"
      ]
    },
    {
      "cell_type": "code",
      "metadata": {
        "id": "LwCmDs6_MXCn",
        "colab": {
          "base_uri": "https://localhost:8080/"
        },
        "outputId": "81d10f92-45ac-4e8b-bb50-bdc019050d25"
      },
      "source": [
        "#Multiply the above matrix with its inverse.\n",
        "x=np.matrix('1 3 3;1 4 3;1 3 4')\n",
        "n=np.linalg.inv(x)\n",
        "e=np.matmul(x,n)\n",
        "print(e)"
      ],
      "execution_count": null,
      "outputs": [
        {
          "output_type": "stream",
          "name": "stdout",
          "text": [
            "[[1. 0. 0.]\n",
            " [0. 1. 0.]\n",
            " [0. 0. 1.]]\n"
          ]
        }
      ]
    },
    {
      "cell_type": "markdown",
      "metadata": {
        "id": "6dGeH1NbkZZl"
      },
      "source": [
        "#### Determinant of a Matrix^^\n",
        "\n",
        "\n",
        "$$X = \\begin{bmatrix} 8 & 7 \\\\ 3\t& -5 \\\\\\end{bmatrix}$$\n",
        "\n",
        " To calculate the determinant value of a square matrix, use the `linalg.det()` function of the `numpy` module.\n",
        "\n",
        "**Syntax:** `np.linalg.det(a)`\n",
        "\n",
        "where `a` is some square matrix."
      ]
    },
    {
      "cell_type": "code",
      "metadata": {
        "id": "Ai-xRdWtzXOu",
        "colab": {
          "base_uri": "https://localhost:8080/"
        },
        "outputId": "100f4672-3c66-4719-da89-16ba9d5047ff"
      },
      "source": [
        "# Calculate the determinant of the matrix X.\n",
        "x=np.matrix('8 7;3 -5')\n",
        "det_x=np.linalg.det(x)\n",
        "print(det_x)"
      ],
      "execution_count": null,
      "outputs": [
        {
          "output_type": "stream",
          "name": "stdout",
          "text": [
            "-60.99999999999995\n"
          ]
        }
      ]
    },
    {
      "cell_type": "markdown",
      "metadata": {
        "id": "-Y5wSAT5bios"
      },
      "source": [
        "Let's calculate the determinant of the matrix\n",
        "\n",
        "$$A = \\begin{bmatrix} 1 & 3 & 3 \\\\ 1 & 4 & 3 \\\\ 1 & 3 & 4 \\\\\\end{bmatrix}$$\n",
        "\n",
        "using Python."
      ]
    },
    {
      "cell_type": "code",
      "metadata": {
        "id": "20_XDKC4Az-g",
        "colab": {
          "base_uri": "https://localhost:8080/"
        },
        "outputId": "6a693d8e-430c-4655-a3a3-eeb7851425a1"
      },
      "source": [
        "#Calculate the determinant of the above matrix A.\n",
        "x=np.matrix('1 3 3;1 4 3;1 3 4')\n",
        "det_x=np.linalg.det(x)\n",
        "print(det_x)"
      ],
      "execution_count": null,
      "outputs": [
        {
          "output_type": "stream",
          "name": "stdout",
          "text": [
            "1.0\n"
          ]
        }
      ]
    },
    {
      "cell_type": "code",
      "metadata": {
        "id": "jSCBQqbWL8Ul",
        "colab": {
          "base_uri": "https://localhost:8080/"
        },
        "outputId": "63274502-8356-44ac-b544-73a55f9028e8"
      },
      "source": [
        "# Calculate the inverse of the above matrix A.\n",
        "x=np.matrix('1 3 3;1 4 3;1 3 4')\n",
        "n=np.linalg.inv(x)\n",
        "print(n)"
      ],
      "execution_count": null,
      "outputs": [
        {
          "output_type": "stream",
          "name": "stdout",
          "text": [
            "[[ 7. -3. -3.]\n",
            " [-1.  1.  0.]\n",
            " [-1.  0.  1.]]\n"
          ]
        }
      ]
    },
    {
      "cell_type": "code",
      "metadata": {
        "id": "-9gj_oaLehon",
        "colab": {
          "base_uri": "https://localhost:8080/",
          "height": 206
        },
        "outputId": "2ab3c44e-ed1d-4fea-db26-eeed7697418a"
      },
      "source": [
        "#Create a dictionary to store weatherdata and convert it to a dtaframe\n",
        "import pandas as pd\n",
        "weatherdata={'Day':['Monday','Tuesday','Wednesday','Thursday','Friday','Saturday','Sunday'],\n",
        "              'City':['Kollam','Muvattupuzha','Kottayam','Ernakulam','Kochi','Kadavantra','Kakkanad'],\n",
        "              'Temparature':[20,30,40,50,80,75,65],\n",
        "              'Windspeed':[30,50,40,80,35,20,25]}\n",
        "# Display the first five rows of dataframe\n",
        "df=pd.DataFrame(weatherdata)\n",
        "df.head()\n",
        "\n"
      ],
      "execution_count": null,
      "outputs": [
        {
          "output_type": "execute_result",
          "data": {
            "text/html": [
              "<div>\n",
              "<style scoped>\n",
              "    .dataframe tbody tr th:only-of-type {\n",
              "        vertical-align: middle;\n",
              "    }\n",
              "\n",
              "    .dataframe tbody tr th {\n",
              "        vertical-align: top;\n",
              "    }\n",
              "\n",
              "    .dataframe thead th {\n",
              "        text-align: right;\n",
              "    }\n",
              "</style>\n",
              "<table border=\"1\" class=\"dataframe\">\n",
              "  <thead>\n",
              "    <tr style=\"text-align: right;\">\n",
              "      <th></th>\n",
              "      <th>Day</th>\n",
              "      <th>City</th>\n",
              "      <th>Temparature</th>\n",
              "      <th>Windspeed</th>\n",
              "    </tr>\n",
              "  </thead>\n",
              "  <tbody>\n",
              "    <tr>\n",
              "      <th>0</th>\n",
              "      <td>Monday</td>\n",
              "      <td>Kollam</td>\n",
              "      <td>20</td>\n",
              "      <td>30</td>\n",
              "    </tr>\n",
              "    <tr>\n",
              "      <th>1</th>\n",
              "      <td>Tuesday</td>\n",
              "      <td>Muvattupuzha</td>\n",
              "      <td>30</td>\n",
              "      <td>50</td>\n",
              "    </tr>\n",
              "    <tr>\n",
              "      <th>2</th>\n",
              "      <td>Wednesday</td>\n",
              "      <td>Kottayam</td>\n",
              "      <td>40</td>\n",
              "      <td>40</td>\n",
              "    </tr>\n",
              "    <tr>\n",
              "      <th>3</th>\n",
              "      <td>Thursday</td>\n",
              "      <td>Ernakulam</td>\n",
              "      <td>50</td>\n",
              "      <td>80</td>\n",
              "    </tr>\n",
              "    <tr>\n",
              "      <th>4</th>\n",
              "      <td>Friday</td>\n",
              "      <td>Kochi</td>\n",
              "      <td>80</td>\n",
              "      <td>35</td>\n",
              "    </tr>\n",
              "  </tbody>\n",
              "</table>\n",
              "</div>"
            ],
            "text/plain": [
              "         Day          City  Temparature  Windspeed\n",
              "0     Monday        Kollam           20         30\n",
              "1    Tuesday  Muvattupuzha           30         50\n",
              "2  Wednesday      Kottayam           40         40\n",
              "3   Thursday     Ernakulam           50         80\n",
              "4     Friday         Kochi           80         35"
            ]
          },
          "metadata": {},
          "execution_count": 33
        }
      ]
    },
    {
      "cell_type": "code",
      "metadata": {
        "colab": {
          "base_uri": "https://localhost:8080/",
          "height": 206
        },
        "id": "O_a2b-XzHo4f",
        "outputId": "55cb0f37-5120-4bec-aa2e-ab38661ea2cc"
      },
      "source": [
        "#Display the last five rows of dataframe\n",
        "df.tail()"
      ],
      "execution_count": null,
      "outputs": [
        {
          "output_type": "execute_result",
          "data": {
            "text/html": [
              "<div>\n",
              "<style scoped>\n",
              "    .dataframe tbody tr th:only-of-type {\n",
              "        vertical-align: middle;\n",
              "    }\n",
              "\n",
              "    .dataframe tbody tr th {\n",
              "        vertical-align: top;\n",
              "    }\n",
              "\n",
              "    .dataframe thead th {\n",
              "        text-align: right;\n",
              "    }\n",
              "</style>\n",
              "<table border=\"1\" class=\"dataframe\">\n",
              "  <thead>\n",
              "    <tr style=\"text-align: right;\">\n",
              "      <th></th>\n",
              "      <th>Day</th>\n",
              "      <th>City</th>\n",
              "      <th>Temparature</th>\n",
              "      <th>Windspeed</th>\n",
              "    </tr>\n",
              "  </thead>\n",
              "  <tbody>\n",
              "    <tr>\n",
              "      <th>2</th>\n",
              "      <td>Wednesday</td>\n",
              "      <td>Kottayam</td>\n",
              "      <td>40</td>\n",
              "      <td>40</td>\n",
              "    </tr>\n",
              "    <tr>\n",
              "      <th>3</th>\n",
              "      <td>Thursday</td>\n",
              "      <td>Ernakulam</td>\n",
              "      <td>50</td>\n",
              "      <td>80</td>\n",
              "    </tr>\n",
              "    <tr>\n",
              "      <th>4</th>\n",
              "      <td>Friday</td>\n",
              "      <td>Kochi</td>\n",
              "      <td>80</td>\n",
              "      <td>35</td>\n",
              "    </tr>\n",
              "    <tr>\n",
              "      <th>5</th>\n",
              "      <td>Saturday</td>\n",
              "      <td>Kadavantra</td>\n",
              "      <td>75</td>\n",
              "      <td>20</td>\n",
              "    </tr>\n",
              "    <tr>\n",
              "      <th>6</th>\n",
              "      <td>Sunday</td>\n",
              "      <td>Kakkanad</td>\n",
              "      <td>65</td>\n",
              "      <td>25</td>\n",
              "    </tr>\n",
              "  </tbody>\n",
              "</table>\n",
              "</div>"
            ],
            "text/plain": [
              "         Day        City  Temparature  Windspeed\n",
              "2  Wednesday    Kottayam           40         40\n",
              "3   Thursday   Ernakulam           50         80\n",
              "4     Friday       Kochi           80         35\n",
              "5   Saturday  Kadavantra           75         20\n",
              "6     Sunday    Kakkanad           65         25"
            ]
          },
          "metadata": {},
          "execution_count": 34
        }
      ]
    }
  ]
}