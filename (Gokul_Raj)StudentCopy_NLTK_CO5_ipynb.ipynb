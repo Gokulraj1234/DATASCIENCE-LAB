{
  "nbformat": 4,
  "nbformat_minor": 0,
  "metadata": {
    "colab": {
      "name": "(Gokul Raj)StudentCopy NLTK-CO5 ipynb",
      "provenance": [],
      "collapsed_sections": [],
      "include_colab_link": true
    },
    "kernelspec": {
      "name": "python3",
      "display_name": "Python 3"
    },
    "language_info": {
      "name": "python"
    }
  },
  "cells": [
    {
      "cell_type": "markdown",
      "metadata": {
        "id": "view-in-github",
        "colab_type": "text"
      },
      "source": [
        "<a href=\"https://colab.research.google.com/github/Gokulraj1234/DATASCIENCE-LAB/blob/main/(Gokul_Raj)StudentCopy_NLTK_CO5_ipynb.ipynb\" target=\"_parent\"><img src=\"https://colab.research.google.com/assets/colab-badge.svg\" alt=\"Open In Colab\"/></a>"
      ]
    },
    {
      "cell_type": "markdown",
      "source": [
        "Aim: Implement problems on natural language processing - Part of Speech\n",
        "tagging, N-gram & smoothening and Chunking using NLTK"
      ],
      "metadata": {
        "id": "dC8zPQwTqRQM"
      }
    },
    {
      "cell_type": "markdown",
      "source": [
        "Short notes:\n",
        "\n",
        "The **Natural Language Toolkit (NLTK)** is a platform used for building programs for text analysis. One of the more powerful aspects of the NLTK module is the Part of Speech tagging.\n",
        "\n",
        "**Part-of-speech (POS)** tagging is a process of converting a sentence to forms – list of words, list of tuples (where each tuple is having a form (word, tag)). The tag in case of is a part-of-speech tag, and signifies whether the word is a noun, adjective, verb, and so on.\n",
        "\n",
        "**keywords**:\n",
        "\n",
        "Corpus : Body of text, singular. Corpora is the plural of this.\n",
        "\n",
        "Lexicon : Words and their meanings.\n",
        "\n",
        "Token : Each “entity” that is a part of whatever was split up based on rules."
      ],
      "metadata": {
        "id": "vx9m4PmlqT07"
      }
    },
    {
      "cell_type": "markdown",
      "source": [
        "**Tags and their meanings**\n",
        "\n",
        "CD cardinal digit\n",
        "\n",
        "EX existential there (like: “there is” … think of it like “there exists”)\n",
        "\n",
        "FW foreign word\n",
        "\n",
        "IN preposition/subordinating conjunction\n",
        "\n",
        "JJ adjective ‘big’\n",
        "\n",
        "JJR adjective, comparative ‘bigger’\n",
        "\n",
        "JJS adjective, superlative ‘biggest’\n",
        "\n",
        "NN noun, singular ‘desk’\n",
        "\n",
        "NNS noun plural ‘desks’\n",
        "\n",
        "NNP proper noun, singular ‘Harrison’\n",
        "\n",
        "NNPS proper noun, plural ‘Americans’\n",
        "\n",
        "PDT predeterminer ‘all the kids’\n",
        "\n",
        "POS possessive ending parent‘s\n",
        "\n",
        "PRP personal pronoun I, he, she\n",
        "\n",
        "PRP$ possessive pronoun my, his, hers\n",
        "\n",
        "RB adverb very, silently,\n",
        "\n",
        "RBR adverb, comparative better\n",
        "\n",
        "RBS adverb, superlative best\n",
        "\n",
        "RP particle give up\n"
      ],
      "metadata": {
        "id": "IKZAu-oDsT0i"
      }
    },
    {
      "cell_type": "markdown",
      "source": [
        "**N-grams** are continuous sequences of words or symbols or tokens in a document. In technical terms, they can be defined as the neighbouring sequences of items in a document. \n",
        "\n",
        "**Steps for n-gram model:**\n",
        "\n",
        "Explore the dataset\n",
        "\n",
        "Feature extraction\n",
        "\n",
        "Train-test split\n",
        "\n",
        "Basic pre-processing\n",
        "\n",
        "Code to generate N-grams\n",
        "\n",
        "Creating unigrams\n",
        "\n",
        "Creating bigrams\n",
        "\n",
        "Creating trigrams"
      ],
      "metadata": {
        "id": "LwnK2p0VyBBk"
      }
    },
    {
      "cell_type": "code",
      "source": [
        "import nltk\n",
        "from nltk.corpus import stopwords\n",
        "from nltk.tokenize import word_tokenize, sent_tokenize\n",
        "nltk.download('stopwords')\n",
        "nltk.download('punkt')\n",
        "nltk.download('averaged_perceptron_tagger')\n",
        "stop_words = set(stopwords.words('english'))\n",
        "  \n",
        "#Dummy text\n",
        "\n",
        "txt = \" Nilamur is located close to the Nilgiris range of the Western Ghats .This place is also known as 'Teak Town'.\"\n",
        "# sent_tokenize is one of instances of \n",
        "# PunktSentenceTokenizer from the nltk.tokenize.punkt module\n",
        "tokenized = sent_tokenize(txt)\n",
        "for i in tokenized:\n",
        "  \n",
        "\n",
        "      \n",
        "    # Word tokenizers is used to find the words \n",
        "    # and punctuation in a string\n",
        "    wordList = nltk.word_tokenize(i)\n",
        "    \n",
        "  \n",
        "    # removing stop words from wordList\n",
        "    wordList =[w for w in wordList if not w in stop_words]\n",
        "    \n",
        "  \n",
        "    #  Using a Tagger. Which is part-of-speech \n",
        "    # tagger or POS-tagger. \n",
        "    tagged = nltk.pos_tag(wordList)\n",
        "    "
      ],
      "metadata": {
        "id": "XpT1pSd5raiN",
        "colab": {
          "base_uri": "https://localhost:8080/"
        },
        "outputId": "aecaa60b-4276-47a0-c765-1a45f0a63ffb"
      },
      "execution_count": null,
      "outputs": [
        {
          "output_type": "stream",
          "name": "stdout",
          "text": [
            "[nltk_data] Downloading package stopwords to /root/nltk_data...\n",
            "[nltk_data]   Package stopwords is already up-to-date!\n",
            "[nltk_data] Downloading package punkt to /root/nltk_data...\n",
            "[nltk_data]   Package punkt is already up-to-date!\n",
            "[nltk_data] Downloading package averaged_perceptron_tagger to\n",
            "[nltk_data]     /root/nltk_data...\n",
            "[nltk_data]   Package averaged_perceptron_tagger is already up-to-\n",
            "[nltk_data]       date!\n"
          ]
        }
      ]
    },
    {
      "cell_type": "code",
      "source": [
        "print(stop_words)"
      ],
      "metadata": {
        "id": "5D0CSoWGyDO0",
        "colab": {
          "base_uri": "https://localhost:8080/"
        },
        "outputId": "4f7183b8-7632-4914-ad9b-eadad5fb9d26"
      },
      "execution_count": null,
      "outputs": [
        {
          "output_type": "stream",
          "name": "stdout",
          "text": [
            "{'down', 'those', 'nor', 'after', 'himself', 'at', 'aren', \"doesn't\", 'into', 'which', 'no', 'isn', 'are', 'and', \"should've\", 'theirs', 'their', 'yourself', 'from', \"it's\", \"couldn't\", 'there', \"you've\", 'against', 'to', 'most', \"wasn't\", 'own', 'shouldn', 'we', 'my', 'between', 'had', 'each', 'shan', 'does', 'what', 'few', 'don', 'ourselves', 'but', 'yours', 'more', 'having', 'further', 'just', 'd', 'because', \"didn't\", 'mightn', 'i', \"you'd\", 'some', 'being', 'yourselves', \"won't\", 'same', 'other', 'will', 'm', 's', 've', 'over', 'or', 'won', 'until', 'during', 'again', \"needn't\", 'an', 'such', 'of', 'with', 'll', 'out', 'before', 'him', \"isn't\", 'it', 'very', 'up', 'whom', 'she', \"shan't\", 'why', 'both', 'do', 'doing', 'o', 'y', 'should', \"you're\", 'didn', 'off', 'was', 'about', 'haven', 'needn', 'am', 'where', 'as', 'has', 'itself', 'any', 'you', 'in', \"weren't\", 'who', 'then', 't', 'them', \"hadn't\", 'be', 'here', 'the', 'now', 'how', 'me', 'above', 'below', 'ain', \"mightn't\", \"haven't\", 'only', \"hasn't\", \"she's\", 'than', \"aren't\", 're', 'they', 'all', 'a', 'its', 'this', 'through', \"shouldn't\", 'under', 'wasn', 'doesn', \"that'll\", 'been', 'if', 'her', 'wouldn', 'not', 'once', 'while', 'couldn', 'ma', \"don't\", 'herself', \"wouldn't\", 'can', 'when', 'his', 'too', 'our', 'he', \"you'll\", 'hadn', 'ours', 'these', 'so', 'your', 'is', 'weren', 'themselves', 'for', 'have', 'hers', 'on', 'did', 'by', 'hasn', 'were', 'mustn', 'that', \"mustn't\", 'myself'}\n"
          ]
        }
      ]
    },
    {
      "cell_type": "code",
      "source": [
        "print(tokenized)"
      ],
      "metadata": {
        "id": "OMJ1OBVGyYmk"
      },
      "execution_count": null,
      "outputs": []
    },
    {
      "cell_type": "markdown",
      "source": [
        "N-gram model"
      ],
      "metadata": {
        "id": "rq4nRuD-zVMI"
      }
    },
    {
      "cell_type": "code",
      "source": [
        "import numpy as np\n",
        "import pandas as pd\n",
        "import matplotlib.pyplot as plt\n",
        "plt.style.use(style = 'seaborn')\n",
        "#get the data from https://www.kaggle.com/ankurzing/sentiment-analysis-for-financial-news/version/5\n",
        "colNames = ['Sentiment', 'news']\n",
        "df = pd.read_csv('/content/all-data.csv - all-data.csv.csv',encoding = 'ISO-8859-1',names=colNames)\n",
        "df.head()\n"
      ],
      "metadata": {
        "id": "rTZFiok9zZFi",
        "colab": {
          "base_uri": "https://localhost:8080/",
          "height": 206
        },
        "outputId": "cb4a786f-1430-4ca1-d54f-df0d421651e0"
      },
      "execution_count": null,
      "outputs": [
        {
          "output_type": "execute_result",
          "data": {
            "text/html": [
              "\n",
              "  <div id=\"df-409c7bca-c001-4457-b323-cde07cd6b619\">\n",
              "    <div class=\"colab-df-container\">\n",
              "      <div>\n",
              "<style scoped>\n",
              "    .dataframe tbody tr th:only-of-type {\n",
              "        vertical-align: middle;\n",
              "    }\n",
              "\n",
              "    .dataframe tbody tr th {\n",
              "        vertical-align: top;\n",
              "    }\n",
              "\n",
              "    .dataframe thead th {\n",
              "        text-align: right;\n",
              "    }\n",
              "</style>\n",
              "<table border=\"1\" class=\"dataframe\">\n",
              "  <thead>\n",
              "    <tr style=\"text-align: right;\">\n",
              "      <th></th>\n",
              "      <th>Sentiment</th>\n",
              "      <th>news</th>\n",
              "    </tr>\n",
              "  </thead>\n",
              "  <tbody>\n",
              "    <tr>\n",
              "      <th>0</th>\n",
              "      <td>neutral</td>\n",
              "      <td>According to Gran , the company has no plans t...</td>\n",
              "    </tr>\n",
              "    <tr>\n",
              "      <th>1</th>\n",
              "      <td>neutral</td>\n",
              "      <td>Technopolis plans to develop in stages an area...</td>\n",
              "    </tr>\n",
              "    <tr>\n",
              "      <th>2</th>\n",
              "      <td>negative</td>\n",
              "      <td>The international electronic industry company ...</td>\n",
              "    </tr>\n",
              "    <tr>\n",
              "      <th>3</th>\n",
              "      <td>positive</td>\n",
              "      <td>With the new production plant the company woul...</td>\n",
              "    </tr>\n",
              "    <tr>\n",
              "      <th>4</th>\n",
              "      <td>positive</td>\n",
              "      <td>According to the company 's updated strategy f...</td>\n",
              "    </tr>\n",
              "  </tbody>\n",
              "</table>\n",
              "</div>\n",
              "      <button class=\"colab-df-convert\" onclick=\"convertToInteractive('df-409c7bca-c001-4457-b323-cde07cd6b619')\"\n",
              "              title=\"Convert this dataframe to an interactive table.\"\n",
              "              style=\"display:none;\">\n",
              "        \n",
              "  <svg xmlns=\"http://www.w3.org/2000/svg\" height=\"24px\"viewBox=\"0 0 24 24\"\n",
              "       width=\"24px\">\n",
              "    <path d=\"M0 0h24v24H0V0z\" fill=\"none\"/>\n",
              "    <path d=\"M18.56 5.44l.94 2.06.94-2.06 2.06-.94-2.06-.94-.94-2.06-.94 2.06-2.06.94zm-11 1L8.5 8.5l.94-2.06 2.06-.94-2.06-.94L8.5 2.5l-.94 2.06-2.06.94zm10 10l.94 2.06.94-2.06 2.06-.94-2.06-.94-.94-2.06-.94 2.06-2.06.94z\"/><path d=\"M17.41 7.96l-1.37-1.37c-.4-.4-.92-.59-1.43-.59-.52 0-1.04.2-1.43.59L10.3 9.45l-7.72 7.72c-.78.78-.78 2.05 0 2.83L4 21.41c.39.39.9.59 1.41.59.51 0 1.02-.2 1.41-.59l7.78-7.78 2.81-2.81c.8-.78.8-2.07 0-2.86zM5.41 20L4 18.59l7.72-7.72 1.47 1.35L5.41 20z\"/>\n",
              "  </svg>\n",
              "      </button>\n",
              "      \n",
              "  <style>\n",
              "    .colab-df-container {\n",
              "      display:flex;\n",
              "      flex-wrap:wrap;\n",
              "      gap: 12px;\n",
              "    }\n",
              "\n",
              "    .colab-df-convert {\n",
              "      background-color: #E8F0FE;\n",
              "      border: none;\n",
              "      border-radius: 50%;\n",
              "      cursor: pointer;\n",
              "      display: none;\n",
              "      fill: #1967D2;\n",
              "      height: 32px;\n",
              "      padding: 0 0 0 0;\n",
              "      width: 32px;\n",
              "    }\n",
              "\n",
              "    .colab-df-convert:hover {\n",
              "      background-color: #E2EBFA;\n",
              "      box-shadow: 0px 1px 2px rgba(60, 64, 67, 0.3), 0px 1px 3px 1px rgba(60, 64, 67, 0.15);\n",
              "      fill: #174EA6;\n",
              "    }\n",
              "\n",
              "    [theme=dark] .colab-df-convert {\n",
              "      background-color: #3B4455;\n",
              "      fill: #D2E3FC;\n",
              "    }\n",
              "\n",
              "    [theme=dark] .colab-df-convert:hover {\n",
              "      background-color: #434B5C;\n",
              "      box-shadow: 0px 1px 3px 1px rgba(0, 0, 0, 0.15);\n",
              "      filter: drop-shadow(0px 1px 2px rgba(0, 0, 0, 0.3));\n",
              "      fill: #FFFFFF;\n",
              "    }\n",
              "  </style>\n",
              "\n",
              "      <script>\n",
              "        const buttonEl =\n",
              "          document.querySelector('#df-409c7bca-c001-4457-b323-cde07cd6b619 button.colab-df-convert');\n",
              "        buttonEl.style.display =\n",
              "          google.colab.kernel.accessAllowed ? 'block' : 'none';\n",
              "\n",
              "        async function convertToInteractive(key) {\n",
              "          const element = document.querySelector('#df-409c7bca-c001-4457-b323-cde07cd6b619');\n",
              "          const dataTable =\n",
              "            await google.colab.kernel.invokeFunction('convertToInteractive',\n",
              "                                                     [key], {});\n",
              "          if (!dataTable) return;\n",
              "\n",
              "          const docLinkHtml = 'Like what you see? Visit the ' +\n",
              "            '<a target=\"_blank\" href=https://colab.research.google.com/notebooks/data_table.ipynb>data table notebook</a>'\n",
              "            + ' to learn more about interactive tables.';\n",
              "          element.innerHTML = '';\n",
              "          dataTable['output_type'] = 'display_data';\n",
              "          await google.colab.output.renderOutput(dataTable, element);\n",
              "          const docLink = document.createElement('div');\n",
              "          docLink.innerHTML = docLinkHtml;\n",
              "          element.appendChild(docLink);\n",
              "        }\n",
              "      </script>\n",
              "    </div>\n",
              "  </div>\n",
              "  "
            ],
            "text/plain": [
              "  Sentiment                                               news\n",
              "0   neutral  According to Gran , the company has no plans t...\n",
              "1   neutral  Technopolis plans to develop in stages an area...\n",
              "2  negative  The international electronic industry company ...\n",
              "3  positive  With the new production plant the company woul...\n",
              "4  positive  According to the company 's updated strategy f..."
            ]
          },
          "metadata": {},
          "execution_count": 41
        }
      ]
    },
    {
      "cell_type": "code",
      "source": [
        "df.info()"
      ],
      "metadata": {
        "id": "c5s161E20d0P",
        "colab": {
          "base_uri": "https://localhost:8080/"
        },
        "outputId": "bd8bb410-b626-4b8f-8084-204cfc670e88"
      },
      "execution_count": null,
      "outputs": [
        {
          "output_type": "stream",
          "name": "stdout",
          "text": [
            "<class 'pandas.core.frame.DataFrame'>\n",
            "RangeIndex: 4846 entries, 0 to 4845\n",
            "Data columns (total 2 columns):\n",
            " #   Column     Non-Null Count  Dtype \n",
            "---  ------     --------------  ----- \n",
            " 0   Sentiment  4846 non-null   object\n",
            " 1   news       4846 non-null   object\n",
            "dtypes: object(2)\n",
            "memory usage: 75.8+ KB\n"
          ]
        }
      ]
    },
    {
      "cell_type": "code",
      "source": [
        "df['Sentiment'].value_counts()"
      ],
      "metadata": {
        "id": "cwSQyIf00itH",
        "colab": {
          "base_uri": "https://localhost:8080/"
        },
        "outputId": "a8af40a6-0371-4ad2-bb98-9a98dc9e3d2a"
      },
      "execution_count": null,
      "outputs": [
        {
          "output_type": "execute_result",
          "data": {
            "text/plain": [
              "neutral     2879\n",
              "positive    1363\n",
              "negative     604\n",
              "Name: Sentiment, dtype: int64"
            ]
          },
          "metadata": {},
          "execution_count": 15
        }
      ]
    },
    {
      "cell_type": "code",
      "source": [
        "y=df['Sentiment'].values\n",
        "y.shape"
      ],
      "metadata": {
        "id": "3NI84Tdw2MZ_",
        "colab": {
          "base_uri": "https://localhost:8080/"
        },
        "outputId": "b69ade0d-3441-4b10-f0d7-7f6d655b765b"
      },
      "execution_count": null,
      "outputs": [
        {
          "output_type": "execute_result",
          "data": {
            "text/plain": [
              "(4846,)"
            ]
          },
          "metadata": {},
          "execution_count": 16
        }
      ]
    },
    {
      "cell_type": "code",
      "source": [
        "x=df['news'].values\n",
        "x.shape"
      ],
      "metadata": {
        "id": "dou59WVl2dAO",
        "colab": {
          "base_uri": "https://localhost:8080/"
        },
        "outputId": "3de534ea-4eca-47e9-ac49-c73da54db5c3"
      },
      "execution_count": null,
      "outputs": [
        {
          "output_type": "execute_result",
          "data": {
            "text/plain": [
              "(4846,)"
            ]
          },
          "metadata": {},
          "execution_count": 17
        }
      ]
    },
    {
      "cell_type": "code",
      "source": [
        "#Split train dataset \n",
        "from sklearn.model_selection import train_test_split\n",
        "xTrain, Xtest, yTrain, yTest = train_test_split(x, y, test_size = .33, random_state = 40)"
      ],
      "metadata": {
        "id": "EqHSEsAl2QWd"
      },
      "execution_count": null,
      "outputs": []
    },
    {
      "cell_type": "code",
      "source": [
        "#Make train dataset as a dataframe\n",
        "df1 = pd.DataFrame(xTrain)\n",
        "df1 = df1.rename(columns = {0:'news'})\n",
        "df2 = pd.DataFrame(yTrain)\n",
        "df2 = df2.rename(columns = {0: 'Sentiment'})\n",
        "dfTrain = pd.concat([df1, df2], axis = 1)\n",
        "dfTrain.head()"
      ],
      "metadata": {
        "id": "-CAiYsbv2WeN",
        "colab": {
          "base_uri": "https://localhost:8080/",
          "height": 206
        },
        "outputId": "5f1a01db-5455-41fb-8d1f-e075150d2cfc"
      },
      "execution_count": null,
      "outputs": [
        {
          "output_type": "execute_result",
          "data": {
            "text/html": [
              "\n",
              "  <div id=\"df-abb32b3c-2c2f-4fab-a4f5-aa84da2e9367\">\n",
              "    <div class=\"colab-df-container\">\n",
              "      <div>\n",
              "<style scoped>\n",
              "    .dataframe tbody tr th:only-of-type {\n",
              "        vertical-align: middle;\n",
              "    }\n",
              "\n",
              "    .dataframe tbody tr th {\n",
              "        vertical-align: top;\n",
              "    }\n",
              "\n",
              "    .dataframe thead th {\n",
              "        text-align: right;\n",
              "    }\n",
              "</style>\n",
              "<table border=\"1\" class=\"dataframe\">\n",
              "  <thead>\n",
              "    <tr style=\"text-align: right;\">\n",
              "      <th></th>\n",
              "      <th>news</th>\n",
              "      <th>Sentiment</th>\n",
              "    </tr>\n",
              "  </thead>\n",
              "  <tbody>\n",
              "    <tr>\n",
              "      <th>0</th>\n",
              "      <td>The shops are located in the capital region an...</td>\n",
              "      <td>neutral</td>\n",
              "    </tr>\n",
              "    <tr>\n",
              "      <th>1</th>\n",
              "      <td>The serial bond is part of the plan to refinan...</td>\n",
              "      <td>neutral</td>\n",
              "    </tr>\n",
              "    <tr>\n",
              "      <th>2</th>\n",
              "      <td>The project is expected to be completed in 2009 .</td>\n",
              "      <td>neutral</td>\n",
              "    </tr>\n",
              "    <tr>\n",
              "      <th>3</th>\n",
              "      <td>The objective of the planned measures is to ac...</td>\n",
              "      <td>positive</td>\n",
              "    </tr>\n",
              "    <tr>\n",
              "      <th>4</th>\n",
              "      <td>Satama earned Data Management Solutions compet...</td>\n",
              "      <td>positive</td>\n",
              "    </tr>\n",
              "  </tbody>\n",
              "</table>\n",
              "</div>\n",
              "      <button class=\"colab-df-convert\" onclick=\"convertToInteractive('df-abb32b3c-2c2f-4fab-a4f5-aa84da2e9367')\"\n",
              "              title=\"Convert this dataframe to an interactive table.\"\n",
              "              style=\"display:none;\">\n",
              "        \n",
              "  <svg xmlns=\"http://www.w3.org/2000/svg\" height=\"24px\"viewBox=\"0 0 24 24\"\n",
              "       width=\"24px\">\n",
              "    <path d=\"M0 0h24v24H0V0z\" fill=\"none\"/>\n",
              "    <path d=\"M18.56 5.44l.94 2.06.94-2.06 2.06-.94-2.06-.94-.94-2.06-.94 2.06-2.06.94zm-11 1L8.5 8.5l.94-2.06 2.06-.94-2.06-.94L8.5 2.5l-.94 2.06-2.06.94zm10 10l.94 2.06.94-2.06 2.06-.94-2.06-.94-.94-2.06-.94 2.06-2.06.94z\"/><path d=\"M17.41 7.96l-1.37-1.37c-.4-.4-.92-.59-1.43-.59-.52 0-1.04.2-1.43.59L10.3 9.45l-7.72 7.72c-.78.78-.78 2.05 0 2.83L4 21.41c.39.39.9.59 1.41.59.51 0 1.02-.2 1.41-.59l7.78-7.78 2.81-2.81c.8-.78.8-2.07 0-2.86zM5.41 20L4 18.59l7.72-7.72 1.47 1.35L5.41 20z\"/>\n",
              "  </svg>\n",
              "      </button>\n",
              "      \n",
              "  <style>\n",
              "    .colab-df-container {\n",
              "      display:flex;\n",
              "      flex-wrap:wrap;\n",
              "      gap: 12px;\n",
              "    }\n",
              "\n",
              "    .colab-df-convert {\n",
              "      background-color: #E8F0FE;\n",
              "      border: none;\n",
              "      border-radius: 50%;\n",
              "      cursor: pointer;\n",
              "      display: none;\n",
              "      fill: #1967D2;\n",
              "      height: 32px;\n",
              "      padding: 0 0 0 0;\n",
              "      width: 32px;\n",
              "    }\n",
              "\n",
              "    .colab-df-convert:hover {\n",
              "      background-color: #E2EBFA;\n",
              "      box-shadow: 0px 1px 2px rgba(60, 64, 67, 0.3), 0px 1px 3px 1px rgba(60, 64, 67, 0.15);\n",
              "      fill: #174EA6;\n",
              "    }\n",
              "\n",
              "    [theme=dark] .colab-df-convert {\n",
              "      background-color: #3B4455;\n",
              "      fill: #D2E3FC;\n",
              "    }\n",
              "\n",
              "    [theme=dark] .colab-df-convert:hover {\n",
              "      background-color: #434B5C;\n",
              "      box-shadow: 0px 1px 3px 1px rgba(0, 0, 0, 0.15);\n",
              "      filter: drop-shadow(0px 1px 2px rgba(0, 0, 0, 0.3));\n",
              "      fill: #FFFFFF;\n",
              "    }\n",
              "  </style>\n",
              "\n",
              "      <script>\n",
              "        const buttonEl =\n",
              "          document.querySelector('#df-abb32b3c-2c2f-4fab-a4f5-aa84da2e9367 button.colab-df-convert');\n",
              "        buttonEl.style.display =\n",
              "          google.colab.kernel.accessAllowed ? 'block' : 'none';\n",
              "\n",
              "        async function convertToInteractive(key) {\n",
              "          const element = document.querySelector('#df-abb32b3c-2c2f-4fab-a4f5-aa84da2e9367');\n",
              "          const dataTable =\n",
              "            await google.colab.kernel.invokeFunction('convertToInteractive',\n",
              "                                                     [key], {});\n",
              "          if (!dataTable) return;\n",
              "\n",
              "          const docLinkHtml = 'Like what you see? Visit the ' +\n",
              "            '<a target=\"_blank\" href=https://colab.research.google.com/notebooks/data_table.ipynb>data table notebook</a>'\n",
              "            + ' to learn more about interactive tables.';\n",
              "          element.innerHTML = '';\n",
              "          dataTable['output_type'] = 'display_data';\n",
              "          await google.colab.output.renderOutput(dataTable, element);\n",
              "          const docLink = document.createElement('div');\n",
              "          docLink.innerHTML = docLinkHtml;\n",
              "          element.appendChild(docLink);\n",
              "        }\n",
              "      </script>\n",
              "    </div>\n",
              "  </div>\n",
              "  "
            ],
            "text/plain": [
              "                                                news Sentiment\n",
              "0  The shops are located in the capital region an...   neutral\n",
              "1  The serial bond is part of the plan to refinan...   neutral\n",
              "2  The project is expected to be completed in 2009 .   neutral\n",
              "3  The objective of the planned measures is to ac...  positive\n",
              "4  Satama earned Data Management Solutions compet...  positive"
            ]
          },
          "metadata": {},
          "execution_count": 25
        }
      ]
    },
    {
      "cell_type": "code",
      "source": [
        "#Make test dataset as a dataframe\n",
        "df3 = pd.DataFrame(Xtest)\n",
        "df3 = df3.rename(columns = {0:'news'})\n",
        "df4 = pd.DataFrame(yTest)\n",
        "df4 = df4.rename(columns = {0: 'Sentiment'})\n",
        "dfTest = pd.concat([df3, df4], axis = 1)\n",
        "dfTest.head()"
      ],
      "metadata": {
        "id": "LNIqf4ul2q_G",
        "colab": {
          "base_uri": "https://localhost:8080/",
          "height": 206
        },
        "outputId": "3dcf92ce-4089-46a1-9449-466129c66332"
      },
      "execution_count": null,
      "outputs": [
        {
          "output_type": "execute_result",
          "data": {
            "text/html": [
              "\n",
              "  <div id=\"df-7634bce6-b3f1-4d68-bb23-3681713cbc26\">\n",
              "    <div class=\"colab-df-container\">\n",
              "      <div>\n",
              "<style scoped>\n",
              "    .dataframe tbody tr th:only-of-type {\n",
              "        vertical-align: middle;\n",
              "    }\n",
              "\n",
              "    .dataframe tbody tr th {\n",
              "        vertical-align: top;\n",
              "    }\n",
              "\n",
              "    .dataframe thead th {\n",
              "        text-align: right;\n",
              "    }\n",
              "</style>\n",
              "<table border=\"1\" class=\"dataframe\">\n",
              "  <thead>\n",
              "    <tr style=\"text-align: right;\">\n",
              "      <th></th>\n",
              "      <th>news</th>\n",
              "      <th>Sentiment</th>\n",
              "    </tr>\n",
              "  </thead>\n",
              "  <tbody>\n",
              "    <tr>\n",
              "      <th>0</th>\n",
              "      <td>Originally posted to the PCMag.com security bl...</td>\n",
              "      <td>neutral</td>\n",
              "    </tr>\n",
              "    <tr>\n",
              "      <th>1</th>\n",
              "      <td>We are honored to be recognized by Gartner as ...</td>\n",
              "      <td>positive</td>\n",
              "    </tr>\n",
              "    <tr>\n",
              "      <th>2</th>\n",
              "      <td>The bridge will be built to the south of the e...</td>\n",
              "      <td>neutral</td>\n",
              "    </tr>\n",
              "    <tr>\n",
              "      <th>3</th>\n",
              "      <td>The transaction is in line with Aspo 's strate...</td>\n",
              "      <td>positive</td>\n",
              "    </tr>\n",
              "    <tr>\n",
              "      <th>4</th>\n",
              "      <td>( A spokesperson told WWD to expect a 50-50 mi...</td>\n",
              "      <td>neutral</td>\n",
              "    </tr>\n",
              "  </tbody>\n",
              "</table>\n",
              "</div>\n",
              "      <button class=\"colab-df-convert\" onclick=\"convertToInteractive('df-7634bce6-b3f1-4d68-bb23-3681713cbc26')\"\n",
              "              title=\"Convert this dataframe to an interactive table.\"\n",
              "              style=\"display:none;\">\n",
              "        \n",
              "  <svg xmlns=\"http://www.w3.org/2000/svg\" height=\"24px\"viewBox=\"0 0 24 24\"\n",
              "       width=\"24px\">\n",
              "    <path d=\"M0 0h24v24H0V0z\" fill=\"none\"/>\n",
              "    <path d=\"M18.56 5.44l.94 2.06.94-2.06 2.06-.94-2.06-.94-.94-2.06-.94 2.06-2.06.94zm-11 1L8.5 8.5l.94-2.06 2.06-.94-2.06-.94L8.5 2.5l-.94 2.06-2.06.94zm10 10l.94 2.06.94-2.06 2.06-.94-2.06-.94-.94-2.06-.94 2.06-2.06.94z\"/><path d=\"M17.41 7.96l-1.37-1.37c-.4-.4-.92-.59-1.43-.59-.52 0-1.04.2-1.43.59L10.3 9.45l-7.72 7.72c-.78.78-.78 2.05 0 2.83L4 21.41c.39.39.9.59 1.41.59.51 0 1.02-.2 1.41-.59l7.78-7.78 2.81-2.81c.8-.78.8-2.07 0-2.86zM5.41 20L4 18.59l7.72-7.72 1.47 1.35L5.41 20z\"/>\n",
              "  </svg>\n",
              "      </button>\n",
              "      \n",
              "  <style>\n",
              "    .colab-df-container {\n",
              "      display:flex;\n",
              "      flex-wrap:wrap;\n",
              "      gap: 12px;\n",
              "    }\n",
              "\n",
              "    .colab-df-convert {\n",
              "      background-color: #E8F0FE;\n",
              "      border: none;\n",
              "      border-radius: 50%;\n",
              "      cursor: pointer;\n",
              "      display: none;\n",
              "      fill: #1967D2;\n",
              "      height: 32px;\n",
              "      padding: 0 0 0 0;\n",
              "      width: 32px;\n",
              "    }\n",
              "\n",
              "    .colab-df-convert:hover {\n",
              "      background-color: #E2EBFA;\n",
              "      box-shadow: 0px 1px 2px rgba(60, 64, 67, 0.3), 0px 1px 3px 1px rgba(60, 64, 67, 0.15);\n",
              "      fill: #174EA6;\n",
              "    }\n",
              "\n",
              "    [theme=dark] .colab-df-convert {\n",
              "      background-color: #3B4455;\n",
              "      fill: #D2E3FC;\n",
              "    }\n",
              "\n",
              "    [theme=dark] .colab-df-convert:hover {\n",
              "      background-color: #434B5C;\n",
              "      box-shadow: 0px 1px 3px 1px rgba(0, 0, 0, 0.15);\n",
              "      filter: drop-shadow(0px 1px 2px rgba(0, 0, 0, 0.3));\n",
              "      fill: #FFFFFF;\n",
              "    }\n",
              "  </style>\n",
              "\n",
              "      <script>\n",
              "        const buttonEl =\n",
              "          document.querySelector('#df-7634bce6-b3f1-4d68-bb23-3681713cbc26 button.colab-df-convert');\n",
              "        buttonEl.style.display =\n",
              "          google.colab.kernel.accessAllowed ? 'block' : 'none';\n",
              "\n",
              "        async function convertToInteractive(key) {\n",
              "          const element = document.querySelector('#df-7634bce6-b3f1-4d68-bb23-3681713cbc26');\n",
              "          const dataTable =\n",
              "            await google.colab.kernel.invokeFunction('convertToInteractive',\n",
              "                                                     [key], {});\n",
              "          if (!dataTable) return;\n",
              "\n",
              "          const docLinkHtml = 'Like what you see? Visit the ' +\n",
              "            '<a target=\"_blank\" href=https://colab.research.google.com/notebooks/data_table.ipynb>data table notebook</a>'\n",
              "            + ' to learn more about interactive tables.';\n",
              "          element.innerHTML = '';\n",
              "          dataTable['output_type'] = 'display_data';\n",
              "          await google.colab.output.renderOutput(dataTable, element);\n",
              "          const docLink = document.createElement('div');\n",
              "          docLink.innerHTML = docLinkHtml;\n",
              "          element.appendChild(docLink);\n",
              "        }\n",
              "      </script>\n",
              "    </div>\n",
              "  </div>\n",
              "  "
            ],
            "text/plain": [
              "                                                news Sentiment\n",
              "0  Originally posted to the PCMag.com security bl...   neutral\n",
              "1  We are honored to be recognized by Gartner as ...  positive\n",
              "2  The bridge will be built to the south of the e...   neutral\n",
              "3  The transaction is in line with Aspo 's strate...  positive\n",
              "4  ( A spokesperson told WWD to expect a 50-50 mi...   neutral"
            ]
          },
          "metadata": {},
          "execution_count": 30
        }
      ]
    },
    {
      "cell_type": "code",
      "source": [
        "#removing punctuations\n",
        "#library that contains punctuation\n",
        "import string\n",
        "string.punctuation"
      ],
      "metadata": {
        "id": "19XKI5gk2v78",
        "colab": {
          "base_uri": "https://localhost:8080/",
          "height": 35
        },
        "outputId": "fe9a14d4-4e0b-41d2-dc07-94c1ff595c33"
      },
      "execution_count": null,
      "outputs": [
        {
          "output_type": "execute_result",
          "data": {
            "application/vnd.google.colaboratory.intrinsic+json": {
              "type": "string"
            },
            "text/plain": [
              "'!\"#$%&\\'()*+,-./:;<=>?@[\\\\]^_`{|}~'"
            ]
          },
          "metadata": {},
          "execution_count": 50
        }
      ]
    },
    {
      "cell_type": "code",
      "source": [
        "#defining the function to remove punctuation\n",
        "def removePunctuation(text):\n",
        "  if(type(text) == float):\n",
        "    return text\n",
        "  ans = ''\n",
        "  for i in text:\n",
        "   if i not in string.punctuation:\n",
        "     ans + i\n",
        "  return ans"
      ],
      "metadata": {
        "id": "Jvf91Ay22ybM"
      },
      "execution_count": null,
      "outputs": []
    },
    {
      "cell_type": "code",
      "source": [
        "#storing the puntuation free text in a new column called clean_msg\n",
        "\n",
        "#punctuations are removed from news column in train dataset\n",
        "dfTrain['news'] = dfTrain['news'].apply(removePunctuation)\n",
        "dfTest['news'] = dfTest['news'].apply(removePunctuation)\n"
      ],
      "metadata": {
        "id": "P4rqOowZ21LN"
      },
      "execution_count": null,
      "outputs": []
    },
    {
      "cell_type": "code",
      "source": [
        "import nltk\n",
        "from nltk.corpus import stopwords\n",
        "nltk.download('stopwords')"
      ],
      "metadata": {
        "id": "ARA0vZFN230M",
        "colab": {
          "base_uri": "https://localhost:8080/"
        },
        "outputId": "e13b6a26-8c1b-4945-e82b-aa1b88550421"
      },
      "execution_count": null,
      "outputs": [
        {
          "output_type": "stream",
          "name": "stdout",
          "text": [
            "[nltk_data] Downloading package stopwords to /root/nltk_data...\n",
            "[nltk_data]   Unzipping corpora/stopwords.zip.\n"
          ]
        },
        {
          "output_type": "execute_result",
          "data": {
            "text/plain": [
              "True"
            ]
          },
          "metadata": {},
          "execution_count": 36
        }
      ]
    },
    {
      "cell_type": "code",
      "source": [
        "#method to generate n-grams:\n",
        "#params:\n",
        "#text-the text for which we have to generate n-grams\n",
        "#ngram-number of grams to be generated from the text(1,2,3,4 etc., default value=1)\n",
        "def generate_N_grams(text, ngram = 1):\n",
        "  words = [word for word in text.split(\" \") if word not in set(stop_words)]\n",
        "  print('after removing', words)\n",
        "  temp = zip(*[words[i:] for i in range(0, ngram)])\n",
        "  ans = [''.join(ngram) for ngram in temp]\n",
        "  return ans"
      ],
      "metadata": {
        "id": "BeHGK5LM26ic"
      },
      "execution_count": null,
      "outputs": []
    },
    {
      "cell_type": "code",
      "source": [
        "generate_N_grams(\"The sun rises in the east\",2)"
      ],
      "metadata": {
        "id": "Jgt3DsHw29Le",
        "colab": {
          "base_uri": "https://localhost:8080/"
        },
        "outputId": "749abe34-8ae0-4287-baae-0df734fa1049"
      },
      "execution_count": null,
      "outputs": [
        {
          "output_type": "stream",
          "name": "stdout",
          "text": [
            "after removing ['The', 'sun', 'rises', 'east']\n"
          ]
        },
        {
          "output_type": "execute_result",
          "data": {
            "text/plain": [
              "['Thesun', 'sunrises', 'riseseast']"
            ]
          },
          "metadata": {},
          "execution_count": 46
        }
      ]
    },
    {
      "cell_type": "code",
      "source": [
        "generate_N_grams(\"The sun rises in the east\",3)"
      ],
      "metadata": {
        "id": "SMcuc_fn2_Al",
        "colab": {
          "base_uri": "https://localhost:8080/"
        },
        "outputId": "40e89d08-2a9f-405c-e6dd-854c37865da8"
      },
      "execution_count": null,
      "outputs": [
        {
          "output_type": "stream",
          "name": "stdout",
          "text": [
            "after removing ['The', 'sun', 'rises', 'east']\n"
          ]
        },
        {
          "output_type": "execute_result",
          "data": {
            "text/plain": [
              "['Thesunrises', 'sunriseseast']"
            ]
          },
          "metadata": {},
          "execution_count": 47
        }
      ]
    },
    {
      "cell_type": "code",
      "source": [
        "generate_N_grams(\"The sun rises in the east\",4)"
      ],
      "metadata": {
        "id": "0rM3QGZh2_Hj",
        "colab": {
          "base_uri": "https://localhost:8080/"
        },
        "outputId": "f33a0fea-d601-463f-b52a-aaf199b80641"
      },
      "execution_count": null,
      "outputs": [
        {
          "output_type": "stream",
          "name": "stdout",
          "text": [
            "after removing ['The', 'sun', 'rises', 'east']\n"
          ]
        },
        {
          "output_type": "execute_result",
          "data": {
            "text/plain": [
              "['Thesunriseseast']"
            ]
          },
          "metadata": {},
          "execution_count": 48
        }
      ]
    },
    {
      "cell_type": "code",
      "source": [
        "s1=['Abeel','Adittya','Akash']\n",
        "s2=[1,2,3]\n",
        "s3=zip(s1,s2)\n",
        "print(set(s3))"
      ],
      "metadata": {
        "colab": {
          "base_uri": "https://localhost:8080/"
        },
        "id": "mN0nifxUpKhN",
        "outputId": "7bceaa02-20e2-44cf-b18e-227c239b7e06"
      },
      "execution_count": null,
      "outputs": [
        {
          "output_type": "stream",
          "name": "stdout",
          "text": [
            "{('Akash', 3), ('Abeel', 1), ('Adittya', 2)}\n"
          ]
        }
      ]
    },
    {
      "cell_type": "code",
      "source": [
        "name=['Gokul','Raj']\n",
        "s=''.join(name)\n",
        "s"
      ],
      "metadata": {
        "colab": {
          "base_uri": "https://localhost:8080/",
          "height": 35
        },
        "id": "czcxsVZ2nXku",
        "outputId": "52c630c8-c6d7-414b-fbdc-52e2b91aa5e4"
      },
      "execution_count": null,
      "outputs": [
        {
          "output_type": "execute_result",
          "data": {
            "application/vnd.google.colaboratory.intrinsic+json": {
              "type": "string"
            },
            "text/plain": [
              "'GokulRaj'"
            ]
          },
          "metadata": {},
          "execution_count": 49
        }
      ]
    }
  ]
}